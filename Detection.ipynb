{
 "cells": [
  {
   "cell_type": "code",
   "execution_count": 3,
   "id": "aa1b723a",
   "metadata": {},
   "outputs": [],
   "source": [
    "import cv2\n",
    "import numpy as np\n",
    "import matplotlib.pyplot as plt"
   ]
  },
  {
   "cell_type": "code",
   "execution_count": 7,
   "id": "6d943ab6",
   "metadata": {},
   "outputs": [],
   "source": [
    "def watershed(path):\n",
    "    image = cv2.imread(path)\n",
    "    image_rgb = cv2.cvtColor(image,  cv2.COLOR_BGR2RGB)\n",
    "    \n",
    "    # img_copy = image_rgb.copy()\n",
    "    img_recog = image_rgb.copy()  # กำหนดค่าเริ่มต้นให้ img_recog เป็นภาพหลักของ image_rgb\n",
    "\n",
    "    img_hsv = cv2.cvtColor(image_rgb , cv2.COLOR_RGB2HSV)\n",
    "    lower = np.array([30,30,30])\n",
    "    upper = np.array([90,255,255])\n",
    "    mask = cv2.inRange(img_hsv , lower , upper)\n",
    "    kernel = np.ones((3,3) , np.uint8)\n",
    "\n",
    "    median = cv2.medianBlur(mask , 5)\n",
    "    opening = cv2.dilate(median , kernel)\n",
    "    closing = cv2.erode(opening , kernel)\n",
    "\n",
    "    contours , hierachy = cv2.findContours(closing, mode=cv2.RETR_TREE , method=cv2.CHAIN_APPROX_SIMPLE)\n",
    "\n",
    "    for index , cnt in enumerate(contours):\n",
    "        if cv2.contourArea(cnt) < 10000 and cv2.contourArea(cnt) > 10:\n",
    "            x,y,w,h = cv2.boundingRect(cnt)\n",
    "            img_recog = cv2.rectangle(img_recog , (x,y) , (x+w,y+h) , (255,0,0) , 1)\n",
    "            cv2.putText(img_recog, f'{index}', (x, y),cv2.FONT_HERSHEY_COMPLEX, 0.3, (0, 255, 255), 1)\n",
    "\n",
    "    plt.figure(figsize=(7,7))\n",
    "    plt.subplot(121)\n",
    "    plt.imshow(closing , cmap='gray')\n",
    "    plt.title('Predict correct')\n",
    "    plt.axis(False)\n",
    "\n",
    "    plt.subplot(122)\n",
    "    plt.imshow(img_recog)\n",
    "    plt.title('Predict correct')\n",
    "    plt.axis(False)    \n",
    "    plt.show()\n",
    "\n",
    "   \n",
    "    return path"
   ]
  },
  {
   "cell_type": "code",
   "execution_count": null,
   "id": "150ba05f",
   "metadata": {},
   "outputs": [],
   "source": [
    "image = '/Users/tae/Desktop/Project/image/1Grape___Black_rot/1.JPG'\n",
    "watershed(image)"
   ]
  }
 ],
 "metadata": {
  "kernelspec": {
   "display_name": "Python 3 (ipykernel)",
   "language": "python",
   "name": "python3"
  },
  "language_info": {
   "codemirror_mode": {
    "name": "ipython",
    "version": 3
   },
   "file_extension": ".py",
   "mimetype": "text/x-python",
   "name": "python",
   "nbconvert_exporter": "python",
   "pygments_lexer": "ipython3",
   "version": "3.11.7"
  }
 },
 "nbformat": 4,
 "nbformat_minor": 5
}
