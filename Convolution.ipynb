{
 "cells": [
  {
   "cell_type": "markdown",
   "id": "e8ac816f",
   "metadata": {},
   "source": [
    "# Import file\n"
   ]
  },
  {
   "cell_type": "code",
   "execution_count": 1,
   "id": "802e27e0",
   "metadata": {},
   "outputs": [],
   "source": [
    "import matplotlib.pyplot as plt\n",
    "%matplotlib inline\n",
    "import pandas as pd\n",
    "import numpy as np\n",
    "import glob\n",
    "import cv2\n",
    "import os\n",
    "from natsort import natsorted\n",
    "from sklearn.preprocessing import MinMaxScaler\n",
    "from scipy.signal import convolve2d\n",
    "from skimage.transform import resize\n",
    "from skimage.io import imread\n",
    "import openpyxl\n",
    "from tqdm import trange\n",
    "\n",
    "np.set_printoptions(suppress=True)\n",
    "\n",
    "path = '/Users/tae/Desktop/Project/image/*'\n",
    "\n",
    "minmax= MinMaxScaler()\n",
    "\n",
    "\n",
    "size_columns = 100"
   ]
  },
  {
   "cell_type": "code",
   "execution_count": null,
   "id": "90777bef",
   "metadata": {},
   "outputs": [],
   "source": []
  },
  {
   "cell_type": "code",
   "execution_count": 3,
   "id": "84256ac4-384b-4270-ae00-1d80e239989f",
   "metadata": {},
   "outputs": [],
   "source": [
    "\n",
    "def readfile():\n",
    "    folder_array =  [natsorted(glob.glob(i+'/*')) for i in glob.glob(path)]\n",
    "    return  folder_array\n",
    "\n",
    "def rgb2gray(folders):\n",
    "    return [[cv2.cvtColor(cv2.imread(path), cv2.COLOR_BGR2GRAY)/255 for path in folder] for folder in folders]\n",
    "    \n",
    "\n",
    "\n",
    "def convolution(images):\n",
    "    images = np.array(images)\n",
    "    kernel = np.array([[0, -1, 0],\n",
    "                       [-1, 5, -1],\n",
    "                       [0, -1, 0]])\n",
    "\n",
    "    image = images\n",
    "    while True:\n",
    "        if image.shape[0] < 3 or image.shape[1] < 3:\n",
    "            break\n",
    "            \n",
    "        new_image = convolve2d(image, kernel, mode='valid')\n",
    "        \n",
    "        if new_image.shape[0] <= 1 or new_image.shape[1] <= 1 or new_image.size <= 100:\n",
    "            break\n",
    "        image = new_image\n",
    "\n",
    "    final_image = image\n",
    "\n",
    "    return final_image.flatten()[:100]\n",
    "\n",
    "\n",
    "\n",
    "def exportExcel(dataset):\n",
    "    with pd.ExcelWriter('dataset100_unnormalize.xlsx') as writer:\n",
    "        for index, data in enumerate(dataset):\n",
    "            \n",
    "            df=pd.DataFrame(data)\n",
    "            sheet_name = f'Sheet{index+1}'\n",
    "            df.to_excel(writer,sheet_name=sheet_name , header=None , index=None)\n",
    "            \n",
    "    return 'Export Success'\n",
    "\n"
   ]
  },
  {
   "cell_type": "code",
   "execution_count": 5,
   "id": "adc57cde",
   "metadata": {},
   "outputs": [
    {
     "name": "stderr",
     "output_type": "stream",
     "text": [
      "Convolving Images: 100%|████████████████████| 1180/1180 [01:07<00:00, 17.60it/s]\n",
      "Convolving Images: 100%|████████████████████| 1383/1383 [01:20<00:00, 17.26it/s]\n",
      "Convolving Images: 100%|████████████████████| 1076/1076 [00:59<00:00, 18.10it/s]\n",
      "Convolving Images: 100%|██████████████████████| 423/423 [00:23<00:00, 18.04it/s]\n"
     ]
    },
    {
     "data": {
      "text/plain": [
       "'Export Success'"
      ]
     },
     "execution_count": 5,
     "metadata": {},
     "output_type": "execute_result"
    }
   ],
   "source": [
    "# Main code default\n",
    "\n",
    "folders = readfile()\n",
    "folder_gray = rgb2gray(folders)\n",
    "\n",
    "result = []\n",
    "\n",
    "for folder in folder_gray:\n",
    "    convolved_images = []\n",
    "    for idx_img in trange(len(folder), desc=\"Convolving Images\"):\n",
    "        convolved_image = convolution(folder[idx_img])\n",
    "        convolved_images.append(convolved_image)\n",
    "    result.append(convolved_images)\n",
    "\n",
    "# result = [scaler.fit_transform(nml) for nml in result]\n",
    "\n",
    "exportExcel(result)"
   ]
  },
  {
   "cell_type": "code",
   "execution_count": null,
   "id": "b9fe9c88-c1c7-4a05-b388-60985bbfdab1",
   "metadata": {},
   "outputs": [],
   "source": [
    "# Convolution from torch 512\n",
    "\n",
    "from tqdm import trange\n",
    "from img2vec_pytorch import Img2Vec\n",
    "from PIL import Image\n",
    "\n",
    "def convolution_from_torch(path):\n",
    "    img = Image.open(path)\n",
    "    image = Img2Vec().get_vec(img)\n",
    "    return image\n",
    "\n",
    "all_file = readfile()\n",
    "dataset = []\n",
    "for i in range(4):\n",
    "    data = []\n",
    "    for path in trange(len(all_file[i])):\n",
    "        data.append(convolution_from_torch(all_file[i][path]))\n",
    "    dataset.append(data)\n",
    "exportExcel(dataset)"
   ]
  },
  {
   "cell_type": "raw",
   "id": "f5496ccc-d530-495e-a506-6100e2dc3b9f",
   "metadata": {},
   "source": [
    "\n",
    "def defaut_convolution(images):\n",
    "\n",
    "    image = images\n",
    "    kernel = np.array([[0, -1, 0],\n",
    "                       [-1, 5, -1],\n",
    "                       [0, -1, 0]])\n",
    "    \n",
    "    while True:\n",
    "        new_image = np.zeros((image.shape[0]-2 , image.shape[1]-2))\n",
    "        if new_image.size <= 99:\n",
    "            break\n",
    "        \n",
    "        for i in range(image.shape[0]-2):\n",
    "            for j in range(image.shape[1]-2):\n",
    "                new_image[i,j] =  np.sum(image[i:i+3 , j:j+3] * kernel)\n",
    "        image = new_image\n",
    "\n",
    "    print(image.shape )\n",
    "    return image.flatten()[:100]\n",
    "\n",
    "\n"
   ]
  }
 ],
 "metadata": {
  "kernelspec": {
   "display_name": "Python 3 (ipykernel)",
   "language": "python",
   "name": "python3"
  },
  "language_info": {
   "codemirror_mode": {
    "name": "ipython",
    "version": 3
   },
   "file_extension": ".py",
   "mimetype": "text/x-python",
   "name": "python",
   "nbconvert_exporter": "python",
   "pygments_lexer": "ipython3",
   "version": "3.10.14"
  }
 },
 "nbformat": 4,
 "nbformat_minor": 5
}
